{
  "nbformat": 4,
  "nbformat_minor": 0,
  "metadata": {
    "colab": {
      "provenance": []
    },
    "kernelspec": {
      "name": "python3",
      "display_name": "Python 3"
    },
    "language_info": {
      "name": "python"
    }
  },
  "cells": [
    {
      "cell_type": "markdown",
      "source": [
        "#Questão 1"
      ],
      "metadata": {
        "id": "tOcWYJ8gRXlH"
      }
    },
    {
      "cell_type": "code",
      "execution_count": 2,
      "metadata": {
        "colab": {
          "base_uri": "https://localhost:8080/"
        },
        "id": "yCCJP2WpMAJ_",
        "outputId": "073308ee-f408-4a55-daf3-a334b16e6b85"
      },
      "outputs": [
        {
          "output_type": "stream",
          "name": "stdout",
          "text": [
            "Soma =  78\n"
          ]
        }
      ],
      "source": [
        "indice = 13\n",
        "soma = 0\n",
        "\n",
        "for k in range(13):\n",
        "  soma += k\n",
        "\n",
        "print(\"Soma = \", soma)"
      ]
    },
    {
      "cell_type": "markdown",
      "source": [
        "#Questão 2"
      ],
      "metadata": {
        "id": "xPPnuYoISxln"
      }
    },
    {
      "cell_type": "code",
      "source": [
        "def fibonacci(num):\n",
        "    fib_seq = [0, 1]\n",
        "\n",
        "    while fib_seq[-1] < num:\n",
        "        fib_seq.append(fib_seq[-1] + fib_seq[-2])\n",
        "\n",
        "    return fib_seq\n",
        "\n",
        "def is_in_fibonacci_sequence(num):\n",
        "    fib_seq = fibonacci(num)\n",
        "\n",
        "    if num in fib_seq:\n",
        "        return print(\"O número \", num, \"pertence à sequência de Fibonacci.\")\n",
        "    else:\n",
        "        return print(\"O número \", num, \"NÃO pertence à sequência de Fibonacci.\")\n",
        "\n",
        "numero = int(input(\"Digite um número: \"))\n",
        "is_in_fibonacci_sequence(numero)"
      ],
      "metadata": {
        "id": "fn8DLwyHSxXr",
        "colab": {
          "base_uri": "https://localhost:8080/"
        },
        "outputId": "27cddd30-85fa-44bf-ab96-3bf86f63a504"
      },
      "execution_count": 7,
      "outputs": [
        {
          "output_type": "stream",
          "name": "stdout",
          "text": [
            "Digite um número: 5\n",
            "O número  5 pertence à sequência de Fibonacci.\n"
          ]
        }
      ]
    },
    {
      "cell_type": "markdown",
      "source": [
        "#Questão 3"
      ],
      "metadata": {
        "id": "7FP-4O4qTdZw"
      }
    },
    {
      "cell_type": "code",
      "source": [
        "import json\n",
        "\n",
        "def carregar_dados_arquivo(arquivo_json):\n",
        "    with open(arquivo_json, 'r') as f:\n",
        "        dados = json.load(f)\n",
        "    return dados\n",
        "\n",
        "def calcular_estatisticas_faturamento(dados_faturamento):\n",
        "    faturamento_com_dados = [dia[\"valor\"] for dia in dados_faturamento if dia[\"valor\"] > 0]\n",
        "\n",
        "    valor_minimo = min(faturamento_com_dados)\n",
        "    valor_maximo = max(faturamento_com_dados)\n",
        "    valor_media = sum(faturamento_com_dados) / len(faturamento_com_dados)\n",
        "\n",
        "    dias_acima_media = sum(1 for valor in faturamento_com_dados if valor > valor_media)\n",
        "\n",
        "    return valor_minimo, valor_maximo, dias_acima_media\n",
        "\n",
        "dados_faturamento = carregar_dados_arquivo('dados.json')\n",
        "valor_minimo, valor_maximo, dias_acima_media = calcular_estatisticas_faturamento(dados_faturamento)\n",
        "\n",
        "print(f\"Menor valor: R$ {valor_minimo:.2f}\")\n",
        "print(f\"Maior valor: R$ {valor_maximo:.2f}\")\n",
        "print(f\"Número de dias com valor acima da média: {dias_acima_media} dias\")"
      ],
      "metadata": {
        "colab": {
          "base_uri": "https://localhost:8080/"
        },
        "id": "DHutZSwWTfAg",
        "outputId": "6ded5d5f-a230-4c19-8a88-1a663d39f2c5"
      },
      "execution_count": 8,
      "outputs": [
        {
          "output_type": "stream",
          "name": "stdout",
          "text": [
            "Menor valor: R$ 373.78\n",
            "Maior valor: R$ 48924.24\n",
            "Número de dias com valor acima da média: 10 dias\n"
          ]
        }
      ]
    },
    {
      "cell_type": "markdown",
      "source": [
        "#Questão 4"
      ],
      "metadata": {
        "id": "rIOFX4NvTlC2"
      }
    },
    {
      "cell_type": "code",
      "source": [
        "faturamento_estados = {\n",
        "    'SP': 67836.43,\n",
        "    'RJ': 36678.66,\n",
        "    'MG': 29229.88,\n",
        "    'ES': 27165.48,\n",
        "    'Outros': 19849.53\n",
        "}\n",
        "\n",
        "valor_total = sum(faturamento_estados.values())\n",
        "\n",
        "percentuais_estados = {estado: (valor / valor_total) * 100 for estado, valor in faturamento_estados.items()}\n",
        "\n",
        "for estado, percentual in percentuais_estados.items():\n",
        "    print(f\"{estado}: {percentual:.2f}% do valor total\")"
      ],
      "metadata": {
        "colab": {
          "base_uri": "https://localhost:8080/"
        },
        "id": "B_vMZcoLTm8O",
        "outputId": "f6514cf1-ad74-4e66-c8e3-f0bd7984cfe2"
      },
      "execution_count": 9,
      "outputs": [
        {
          "output_type": "stream",
          "name": "stdout",
          "text": [
            "SP: 37.53% do valor total\n",
            "RJ: 20.29% do valor total\n",
            "MG: 16.17% do valor total\n",
            "ES: 15.03% do valor total\n",
            "Outros: 10.98% do valor total\n"
          ]
        }
      ]
    },
    {
      "cell_type": "markdown",
      "source": [
        "#Questão 5"
      ],
      "metadata": {
        "id": "jrIkKSbHT-7-"
      }
    },
    {
      "cell_type": "code",
      "source": [
        "string_original = input(\"Informe a string que deseja inverter: \")\n",
        "print(f\"String invertida: {string_original[::-1]}\")"
      ],
      "metadata": {
        "colab": {
          "base_uri": "https://localhost:8080/"
        },
        "id": "zTP_07HQUAS2",
        "outputId": "9cc38b99-3bde-40ff-8d15-02679dcc8b26"
      },
      "execution_count": 10,
      "outputs": [
        {
          "output_type": "stream",
          "name": "stdout",
          "text": [
            "Informe a string que deseja inverter: exemplo\n",
            "String invertida: olpmexe\n"
          ]
        }
      ]
    }
  ]
}