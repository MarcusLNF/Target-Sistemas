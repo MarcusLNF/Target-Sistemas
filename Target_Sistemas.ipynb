{
  "nbformat": 4,
  "nbformat_minor": 0,
  "metadata": {
    "colab": {
      "provenance": []
    },
    "kernelspec": {
      "name": "python3",
      "display_name": "Python 3"
    },
    "language_info": {
      "name": "python"
    }
  },
  "cells": [
    {
      "cell_type": "markdown",
      "source": [
        "#Questão 1"
      ],
      "metadata": {
        "id": "tOcWYJ8gRXlH"
      }
    },
    {
      "cell_type": "code",
      "execution_count": 1,
      "metadata": {
        "colab": {
          "base_uri": "https://localhost:8080/"
        },
        "id": "yCCJP2WpMAJ_",
        "outputId": "940a670b-09b1-4217-cf81-e827c4bd77dc"
      },
      "outputs": [
        {
          "output_type": "stream",
          "name": "stdout",
          "text": [
            "78\n"
          ]
        }
      ],
      "source": [
        "indice = 13\n",
        "soma = 0\n",
        "\n",
        "for k in range(13):\n",
        "  soma += k\n",
        "\n",
        "print(soma)"
      ]
    },
    {
      "cell_type": "markdown",
      "source": [
        "#Questão 2"
      ],
      "metadata": {
        "id": "xPPnuYoISxln"
      }
    },
    {
      "cell_type": "code",
      "source": [
        "def fibonacci(n):\n",
        "    fib_sequence = [0, 1]\n",
        "\n",
        "    while fib_sequence[-1] < n:\n",
        "        fib_sequence.append(fib_sequence[-1] + fib_sequence[-2])\n",
        "\n",
        "    return fib_sequence\n",
        "\n",
        "def is_in_fibonacci_sequence(n):\n",
        "    fib_sequence = fibonacci(n)\n",
        "\n",
        "    if n in fib_sequence:\n",
        "        return f\"O número {n} pertence à sequência de Fibonacci.\"\n",
        "    else:\n",
        "        return f\"O número {n} NÃO pertence à sequência de Fibonacci.\"\n",
        "\n",
        "numero = int(input(\"Informe um número: \"))\n",
        "print(is_in_fibonacci_sequence(numero))"
      ],
      "metadata": {
        "id": "fn8DLwyHSxXr"
      },
      "execution_count": null,
      "outputs": []
    },
    {
      "cell_type": "markdown",
      "source": [
        "#Questão 3"
      ],
      "metadata": {
        "id": "7FP-4O4qTdZw"
      }
    },
    {
      "cell_type": "code",
      "source": [
        "# COMO NENHUM ARQUIVO JASON OU XML FORAM FORNECIDOS ASSUMI O USO DE UM ARQUIVO TIPO JSON QUE SEGUE O ESTILO ABAIXO\n",
        "\n",
        "json = [ {\"dia\": 1, \"valor\": 22174.1664},\n",
        "    {\"dia\": 2, \"valor\": 24537.6698},\n",
        "    {\"dia\": 3, \"valor\": 26139.6134},\n",
        "    {\"dia\": 4, \"valor\": 0.0},\n",
        "    {\"dia\": 5, \"valor\": 0.0},\n",
        "    {\"dia\": 6, \"valor\": 26742.6612},\n",
        "    {\"dia\": 7, \"valor\": 0.0},\n",
        "    {\"dia\": 8, \"valor\": 42889.2258},\n",
        "    {\"dia\": 9, \"valor\": 46251.174},\n",
        "    {\"dia\": 10, \"valor\": 11191.4722},\n",
        "    {\"dia\": 11, \"valor\": 0.0},\n",
        "    {\"dia\": 12, \"valor\": 0.0},\n",
        "    {\"dia\": 13, \"valor\": 3847.4823},\n",
        "    {\"dia\": 14, \"valor\": 373.7838},\n",
        "    {\"dia\": 15, \"valor\": 2659.7563},\n",
        "    {\"dia\": 16, \"valor\": 48924.2448},\n",
        "    {\"dia\": 17, \"valor\": 18419.2614},\n",
        "    {\"dia\": 18, \"valor\": 0.0},\n",
        "    {\"dia\": 19, \"valor\": 0.0},\n",
        "    {\"dia\": 20, \"valor\": 35240.1826},\n",
        "    {\"dia\": 21, \"valor\": 43829.1667},\n",
        "    {\"dia\": 22, \"valor\": 18235.6852},\n",
        "    {\"dia\": 23, \"valor\": 4355.0662},\n",
        "    {\"dia\": 24, \"valor\": 13327.1025},\n",
        "    {\"dia\": 25, \"valor\": 0.0},\n",
        "    {\"dia\": 26, \"valor\": 0.0},\n",
        "    {\"dia\": 27, \"valor\": 25681.8318},\n",
        "    {\"dia\": 28, \"valor\": 1718.1221},\n",
        "    {\"dia\": 29, \"valor\": 13220.495},\n",
        "    {\"dia\": 30, \"valor\": 8414.61}\n",
        "]\n",
        "\n",
        "def calcular_estatisticas_faturamento(dados_faturamento):\n",
        "    faturamento_com_dados = [dia[\"valor\"] for dia in dados_faturamento if dia[\"valor\"] > 0]\n",
        "\n",
        "    menor_valor = min(faturamento_com_dados)\n",
        "    maior_valor = max(faturamento_com_dados)\n",
        "    media_mensal = sum(faturamento_com_dados) / len(faturamento_com_dados)\n",
        "\n",
        "    dias_acima_media = sum(1 for valor in faturamento_com_dados if valor > media_mensal)\n",
        "\n",
        "    return menor_valor, maior_valor, dias_acima_media\n",
        "\n",
        "\n",
        "menor_valor, maior_valor, dias_acima_media = calcular_estatisticas_faturamento(json)\n",
        "\n",
        "print(f\"Menor valor de faturamento: R$ {menor_valor:.2f}\")\n",
        "print(f\"Maior valor de faturamento: R$ {maior_valor:.2f}\")\n",
        "print(f\"Número de dias com faturamento acima da média: {dias_acima_media} dias\")"
      ],
      "metadata": {
        "colab": {
          "base_uri": "https://localhost:8080/"
        },
        "id": "DHutZSwWTfAg",
        "outputId": "c387c7cc-f8de-4f57-97ad-9e6677d6b560"
      },
      "execution_count": 5,
      "outputs": [
        {
          "output_type": "stream",
          "name": "stdout",
          "text": [
            "Menor valor de faturamento: R$ 373.78\n",
            "Maior valor de faturamento: R$ 48924.24\n",
            "Número de dias com faturamento acima da média: 10 dias\n"
          ]
        }
      ]
    },
    {
      "cell_type": "markdown",
      "source": [
        "#Questão 4"
      ],
      "metadata": {
        "id": "rIOFX4NvTlC2"
      }
    },
    {
      "cell_type": "code",
      "source": [
        "# Dados de faturamento por estado\n",
        "faturamento_estados = {\n",
        "    'SP': 67836.43,\n",
        "    'RJ': 36678.66,\n",
        "    'MG': 29229.88,\n",
        "    'ES': 27165.48,\n",
        "    'Outros': 19849.53\n",
        "}\n",
        "\n",
        "# Calcula o faturamento total\n",
        "faturamento_total = sum(faturamento_estados.values())\n",
        "\n",
        "# Calcula o percentual de cada estado em relação ao total\n",
        "percentuais_estados = {estado: (valor / faturamento_total) * 100 for estado, valor in faturamento_estados.items()}\n",
        "\n",
        "# Exibe os resultados\n",
        "for estado, percentual in percentuais_estados.items():\n",
        "    print(f\"{estado}: {percentual:.2f}% do faturamento total\")"
      ],
      "metadata": {
        "colab": {
          "base_uri": "https://localhost:8080/"
        },
        "id": "B_vMZcoLTm8O",
        "outputId": "21760b76-3dcf-4f4c-f35a-47deafb5348a"
      },
      "execution_count": 2,
      "outputs": [
        {
          "output_type": "stream",
          "name": "stdout",
          "text": [
            "SP: 37.53% do faturamento total\n",
            "RJ: 20.29% do faturamento total\n",
            "MG: 16.17% do faturamento total\n",
            "ES: 15.03% do faturamento total\n",
            "Outros: 10.98% do faturamento total\n"
          ]
        }
      ]
    },
    {
      "cell_type": "markdown",
      "source": [
        "#Questão 5"
      ],
      "metadata": {
        "id": "jrIkKSbHT-7-"
      }
    },
    {
      "cell_type": "code",
      "source": [
        "string_original = input(\"Informe a string que deseja inverter: \")\n",
        "print(f\"String invertida: {string_original[::-1]}\")"
      ],
      "metadata": {
        "colab": {
          "base_uri": "https://localhost:8080/"
        },
        "id": "zTP_07HQUAS2",
        "outputId": "1eb5c303-19d7-471a-f869-8f50e69183fb"
      },
      "execution_count": 3,
      "outputs": [
        {
          "output_type": "stream",
          "name": "stdout",
          "text": [
            "Informe a string que deseja inverter: exemplo\n",
            "String invertida: olpmexe\n"
          ]
        }
      ]
    }
  ]
}